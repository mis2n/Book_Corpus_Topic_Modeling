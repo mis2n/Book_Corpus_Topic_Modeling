{
 "cells": [
  {
   "cell_type": "code",
   "execution_count": 1,
   "id": "7b109fce-2958-4a41-87ba-71642df75a37",
   "metadata": {},
   "outputs": [],
   "source": [
    "import os\n",
    "import sys\n",
    "import re\n",
    "import pandas as pd\n",
    "from transformers import pipeline\n",
    "\n",
    "from ngrams import *\n",
    "from ldatops import *\n",
    "from parse import *\n",
    "from run_bert import *\n",
    "from run_spacy import *"
   ]
  },
  {
   "cell_type": "markdown",
   "id": "481709aa-44c7-4580-ae16-f9b3556af10a",
   "metadata": {},
   "source": [
    "# Enter path to desired text file below"
   ]
  },
  {
   "cell_type": "code",
   "execution_count": 2,
   "id": "f5a5e45a-8991-4071-8020-afb23cddaa41",
   "metadata": {},
   "outputs": [],
   "source": [
    "pth = \"test2.txt\""
   ]
  },
  {
   "cell_type": "markdown",
   "id": "89edfa57-3ace-4b82-b242-c4861fdc0d34",
   "metadata": {},
   "source": [
    "# Peforming Pre-processing of book and displaying first 50 characters of text"
   ]
  },
  {
   "cell_type": "code",
   "execution_count": null,
   "id": "207c0bd4-d838-4b1d-a390-7299b234b9be",
   "metadata": {},
   "outputs": [],
   "source": [
    "book, sents = preprocess(pth)\n",
    "book[:50]"
   ]
  },
  {
   "cell_type": "markdown",
   "id": "92f22585-aeac-4644-9722-fb5dc97256a4",
   "metadata": {},
   "source": [
    "# Extracting unigrams, bigrams, and trigrams from text and displaying the first 5 terms and their associated confidence scores"
   ]
  },
  {
   "cell_type": "code",
   "execution_count": null,
   "id": "b93433f6-19ba-4722-898d-039c7c8f9c82",
   "metadata": {},
   "outputs": [],
   "source": [
    "grams, gprobs = get_grams(sents)\n",
    "print(grams[:5])\n",
    "print(gprobs[:5])"
   ]
  },
  {
   "cell_type": "markdown",
   "id": "9a4eac9d-9158-4301-9243-dacfc37c15bb",
   "metadata": {},
   "source": [
    "# Extracting topics using Latent Dirichlet Association, and displaying the first 5 terms with associated confidence scores"
   ]
  },
  {
   "cell_type": "code",
   "execution_count": null,
   "id": "cc322acd-6238-47fa-82f0-256fa5a70bbd",
   "metadata": {},
   "outputs": [],
   "source": [
    "ldatops, ldaprobs = get_lda(sents)\n",
    "print(ldatops[:5])\n",
    "print(ldaprobs[:5])"
   ]
  },
  {
   "cell_type": "markdown",
   "id": "8e1e8ed9-e536-48fd-a7d6-3ddff7f8113e",
   "metadata": {},
   "source": [
    "# Extracting topics using BERTopic, and displaying the first 5 terms with associated confidence scores"
   ]
  },
  {
   "cell_type": "code",
   "execution_count": null,
   "id": "9c69ea40-037e-4465-bb10-bbd4501b93de",
   "metadata": {},
   "outputs": [],
   "source": [
    "btops, bprob = get_bert(sents)\n",
    "print(btops[:5])\n",
    "print(bprob[:5])"
   ]
  },
  {
   "cell_type": "markdown",
   "id": "fc8d8717-5aa4-49ee-bccf-c0b879dc54cf",
   "metadata": {},
   "source": [
    "# Extracting named entities using spaCy, and displaying the first 5 term categories"
   ]
  },
  {
   "cell_type": "code",
   "execution_count": null,
   "id": "90b13b52-1d6e-4399-92b4-3c478245a2e2",
   "metadata": {},
   "outputs": [],
   "source": [
    "ents = get_spacy(book)\n",
    "print(ents[:5])"
   ]
  },
  {
   "cell_type": "markdown",
   "id": "b94c9e36-b372-413f-9351-b813fdfee85c",
   "metadata": {},
   "source": [
    "# Performing hierarchical summarization using HuggingFace's summarization pipeline, and displaying final summary"
   ]
  },
  {
   "cell_type": "markdown",
   "id": "8d24b54c-1c9a-4cf7-9506-c1bebf2828c8",
   "metadata": {},
   "source": [
    "# !!!!! WARNING, THIS TAKES A LONG TIME TO PROCESS !!!!!"
   ]
  },
  {
   "cell_type": "code",
   "execution_count": null,
   "id": "b4460e30-d2f0-4d77-80f1-7bb64e9057a6",
   "metadata": {},
   "outputs": [],
   "source": [
    "segs = int(len(book) / 1024) + 1\n",
    "summary = \"\"\n",
    "summarizer = pipeline(\"summarization\", model=\"google-t5/t5-large\")"
   ]
  },
  {
   "cell_type": "code",
   "execution_count": null,
   "id": "587f4728-2048-43c2-8876-6a4e5abd4eff",
   "metadata": {},
   "outputs": [],
   "source": [
    "iter = 0\n",
    "while len(book.split(\".\")) > 15:\n",
    "# for q in range(1):\n",
    "    for i in range(segs):\n",
    "        if i == 0:\n",
    "            st = 0\n",
    "            en = 1024\n",
    "            outputs = summarizer(book[st:en], max_length=128, clean_up_tokenization_spaces=True)\n",
    "            summary += outputs[0]['summary_text']\n",
    "        if i == segs-1:\n",
    "            st = i + (i*1023)\n",
    "            remlen = len(book[st:])\n",
    "            outputs = summarizer(book[st:], max_length=remlen, clean_up_tokenization_spaces=True)\n",
    "            summary += \" \" + outputs[0]['summary_text']\n",
    "        else:\n",
    "            st = i + (i*1023)\n",
    "            en = st + 1024\n",
    "            outputs = summarizer(book[st:en], max_length=128, clean_up_tokenization_spaces=True)\n",
    "            summary += \" \" + outputs[0]['summary_text']\n",
    "    book = summary\n",
    "    summary = \"\"\n",
    "    print(\"\\n***************************\\n\\n\", iter, len(book))\n",
    "    segs = int(len(book) / 1024) + 1\n",
    "    iter += 1\n",
    "\n",
    "print(book)"
   ]
  }
 ],
 "metadata": {
  "kernelspec": {
   "display_name": "Python 3 (ipykernel)",
   "language": "python",
   "name": "python3"
  },
  "language_info": {
   "codemirror_mode": {
    "name": "ipython",
    "version": 3
   },
   "file_extension": ".py",
   "mimetype": "text/x-python",
   "name": "python",
   "nbconvert_exporter": "python",
   "pygments_lexer": "ipython3",
   "version": "3.11.5"
  }
 },
 "nbformat": 4,
 "nbformat_minor": 5
}
